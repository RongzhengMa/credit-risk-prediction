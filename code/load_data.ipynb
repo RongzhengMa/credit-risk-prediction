{
 "cells": [
  {
   "cell_type": "markdown",
   "metadata": {},
   "source": [
    "# Load Splited Data Function"
   ]
  },
  {
   "cell_type": "code",
   "execution_count": null,
   "metadata": {},
   "outputs": [],
   "source": [
    "def load_and_concat_csvs(directory: str) -> pd.DataFrame:\n",
    "    \"\"\"\n",
    "    Load all CSV files in the specified directory, rename them with _1, _2,... suffix,\n",
    "    and concatenate them into a single DataFrame.\n",
    "    \n",
    "    :param directory: Path to the directory containing CSV files.\n",
    "    :return: A single concatenated DataFrame.\n",
    "    \"\"\"\n",
    "    # Get all CSV files in the directory\n",
    "    csv_files = [f for f in os.listdir(directory) if f.endswith(\".csv\")]\n",
    "    csv_files.sort()  # Ensure files are sorted alphabetically\n",
    "    \n",
    "    # Rename files with sequential numbering\n",
    "    total_files = len(csv_files)\n",
    "    renamed_files = {csv_files[i]: f\"file_{i+1}.csv\" for i in range(total_files)}\n",
    "    \n",
    "    # Read and concatenate data\n",
    "    dataframes = []\n",
    "    for original_name, new_name in renamed_files.items():\n",
    "        file_path = os.path.join(directory, original_name)\n",
    "        df = pd.read_csv(file_path)\n",
    "        df[\"file_name\"] = new_name  # Add a column to track the file source\n",
    "        dataframes.append(df)\n",
    "    \n",
    "    # Combine all DataFrames into a single DataFrame\n",
    "    combined_df = pd.concat(dataframes, ignore_index=True)\n",
    "    \n",
    "    return combined_df"
   ]
  },
  {
   "cell_type": "markdown",
   "metadata": {},
   "source": [
    "# Load Example"
   ]
  },
  {
   "cell_type": "code",
   "execution_count": null,
   "metadata": {},
   "outputs": [],
   "source": [
    "train_data = load_and_concat_csvs('../data/train_data')"
   ]
  }
 ],
 "metadata": {
  "language_info": {
   "name": "python"
  }
 },
 "nbformat": 4,
 "nbformat_minor": 2
}
